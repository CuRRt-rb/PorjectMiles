{
 "cells": [
  {
   "cell_type": "code",
   "execution_count": 2,
   "metadata": {},
   "outputs": [
    {
     "name": "stdout",
     "output_type": "stream",
     "text": [
      "2\n"
     ]
    }
   ],
   "source": [
    "variable1 = 2\n",
    "print(variable1)"
   ]
  },
  {
   "cell_type": "code",
   "execution_count": 4,
   "metadata": {},
   "outputs": [
    {
     "name": "stdout",
     "output_type": "stream",
     "text": [
      "Vikky Los\n",
      "Vikky Los\n"
     ]
    }
   ],
   "source": [
    "vardas = \"Vikky\"\n",
    "pavarde = \"Los\"\n",
    "print(vardas, pavarde)\n",
    "print(vardas + ' ' + pavarde)"
   ]
  },
  {
   "cell_type": "code",
   "execution_count": 36,
   "metadata": {},
   "outputs": [],
   "source": [
    "lyrics = \"\"\"Living easy, lovin' free\n",
    "Season ticket on a one way ride\n",
    "Asking nothing, leave me be\n",
    "Taking everythin' in my stride\n",
    "Don't need reason, don't need rhyme\n",
    "Ain't nothing I'd rather do\n",
    "Goin' down, party time\n",
    "My friends are gonna be there too, yeah\n",
    "\n",
    "I'm on the highway to hell\n",
    "On the highway to hell\n",
    "Highway to hell\n",
    "I'm on the highway to hell\n",
    "\n",
    "No stop signs, speed limit\n",
    "Nobody's gonna slow me down\n",
    "Like a wheel, gonna spin it\n",
    "Nobody's gonna mess me around\n",
    "Hey Satan, payin' my dues\n",
    "Playing in a rocking band\n",
    "Hey mama, look at me\n",
    "I'm on the way to the promised land\n",
    "Woo!\n",
    "\n",
    "I'm on the highway to hell\n",
    "Highway to hell\n",
    "I'm on the highway to hell\n",
    "Highway to hell\n",
    "\n",
    "Don't stop me\n",
    "Heh, heh!\n",
    "\n",
    "I'm on the highway to hell\n",
    "On the highway to hell\n",
    "Highway to hell\n",
    "I'm on the highway to hell\n",
    "(Highway to hell) I'm on the highway to hell\n",
    "(Highway to hell) Highway to hell\n",
    "(Highway to hell) Highway to hell\n",
    "(Highway to hell)\n",
    "\n",
    "And I'm going down\n",
    "All the way\n",
    "I'm on the highway to hell\"\"\""
   ]
  },
  {
   "cell_type": "code",
   "execution_count": 42,
   "metadata": {},
   "outputs": [
    {
     "name": "stdout",
     "output_type": "stream",
     "text": [
      "['Living', 'easy,', \"lovin'\", 'free', 'Season', 'ticket', 'on', 'a', 'one', 'way', 'ride', 'Asking', 'nothing,', 'leave', 'me', 'be', 'Taking', \"everythin'\", 'in', 'my', 'stride', \"Don't\", 'need', 'reason,', \"don't\", 'need', 'rhyme', \"Ain't\", 'nothing', \"I'd\", 'rather', 'do', \"Goin'\", 'down,', 'party', 'time', 'My', 'friends', 'are', 'gonna', 'be', 'there', 'too,', 'yeah', \"I'm\", 'on', 'the', 'highway', 'to', 'hell', 'On', 'the', 'highway', 'to', 'hell', 'Highway', 'to', 'hell', \"I'm\", 'on', 'the', 'highway', 'to', 'hell', 'No', 'stop', 'signs,', 'speed', 'limit', \"Nobody's\", 'gonna', 'slow', 'me', 'down', 'Like', 'a', 'wheel,', 'gonna', 'spin', 'it', \"Nobody's\", 'gonna', 'mess', 'me', 'around', 'Hey', 'Satan,', \"payin'\", 'my', 'dues', 'Playing', 'in', 'a', 'rocking', 'band', 'Hey', 'mama,', 'look', 'at', 'me', \"I'm\", 'on', 'the', 'way', 'to', 'the', 'promised', 'land', 'Woo!', \"I'm\", 'on', 'the', 'highway', 'to', 'hell', 'Highway', 'to', 'hell', \"I'm\", 'on', 'the', 'highway', 'to', 'hell', 'Highway', 'to', 'hell', \"Don't\", 'stop', 'me', 'Heh,', 'heh!', \"I'm\", 'on', 'the', 'highway', 'to', 'hell', 'On', 'the', 'highway', 'to', 'hell', 'Highway', 'to', 'hell', \"I'm\", 'on', 'the', 'highway', 'to', 'hell', '(Highway', 'to', 'hell)', \"I'm\", 'on', 'the', 'highway', 'to', 'hell', '(Highway', 'to', 'hell)', 'Highway', 'to', 'hell', '(Highway', 'to', 'hell)', 'Highway', 'to', 'hell', '(Highway', 'to', 'hell)', 'And', \"I'm\", 'going', 'down', 'All', 'the', 'way', \"I'm\", 'on', 'the', 'highway', 'to', 'hell']\n",
      "189\n"
     ]
    }
   ],
   "source": [
    "print(lyrics.split())\n",
    "print(len(lyrics.split()))\n",
    "lyrics_fixed = (lyrics.lower().replace(\"the\", \"\").replace(\"?\", \"\").replace(\",\", \"\").replace(\"i'm\", \"I am\").replace(\"don't\", \"dont\").replace(\"ain't\", \"aint\").replace(\"nobody's\", \"nobody\").replace(\"ain't\", \"aint\").replace(\"i'd\", \"i\").replace(\"!\", \" \").replace(\"(\", \" \").replace(\")\", \" \") )\n"
   ]
  },
  {
   "cell_type": "code",
   "execution_count": 43,
   "metadata": {},
   "outputs": [
    {
     "name": "stdout",
     "output_type": "stream",
     "text": [
      "905\n",
      "905\n"
     ]
    }
   ],
   "source": [
    "print(len(lyrics_fixed))\n",
    "lyrics_converted = set(lyrics_fixed)\n",
    "print(len(lyrics_fixed))"
   ]
  },
  {
   "cell_type": "code",
   "execution_count": 1,
   "metadata": {},
   "outputs": [],
   "source": [
    "def function(x, y):\n",
    "    return x + y"
   ]
  },
  {
   "cell_type": "code",
   "execution_count": 2,
   "metadata": {},
   "outputs": [
    {
     "name": "stdout",
     "output_type": "stream",
     "text": [
      "10\n"
     ]
    }
   ],
   "source": [
    "print(function(5, 5))\n"
   ]
  },
  {
   "cell_type": "code",
   "execution_count": 2,
   "metadata": {},
   "outputs": [
    {
     "ename": "TypeError",
     "evalue": "'tuple' object is not callable",
     "output_type": "error",
     "traceback": [
      "\u001b[1;31m---------------------------------------------------------------------------\u001b[0m",
      "\u001b[1;31mTypeError\u001b[0m                                 Traceback (most recent call last)",
      "Input \u001b[1;32mIn [2]\u001b[0m, in \u001b[0;36m<module>\u001b[1;34m\u001b[0m\n\u001b[1;32m----> 1\u001b[0m \u001b[43mlist_tikrintojas\u001b[49m\u001b[43m(\u001b[49m\u001b[43m[\u001b[49m\u001b[38;5;241;43m1\u001b[39;49m\u001b[43m,\u001b[49m\u001b[43m \u001b[49m\u001b[38;5;241;43m2\u001b[39;49m\u001b[43m]\u001b[49m\u001b[43m,\u001b[49m\u001b[43m \u001b[49m\u001b[43m[\u001b[49m\u001b[38;5;241;43m1\u001b[39;49m\u001b[43m,\u001b[49m\u001b[38;5;241;43m1\u001b[39;49m\u001b[43m,\u001b[49m\u001b[38;5;241;43m2\u001b[39;49m\u001b[43m,\u001b[49m\u001b[38;5;241;43m3\u001b[39;49m\u001b[43m,\u001b[49m\u001b[38;5;241;43m3\u001b[39;49m\u001b[43m,\u001b[49m\u001b[38;5;241;43m3\u001b[39;49m\u001b[43m,\u001b[49m\u001b[38;5;241;43m3\u001b[39;49m\u001b[43m,\u001b[49m\u001b[38;5;241;43m3\u001b[39;49m\u001b[43m,\u001b[49m\u001b[38;5;241;43m1\u001b[39;49m\u001b[43m]\u001b[49m\u001b[43m)\u001b[49m\n",
      "\u001b[1;31mTypeError\u001b[0m: 'tuple' object is not callable"
     ]
    }
   ],
   "source": [
    "list_tikrintojas([1, 2], [1,1,2,3,3,3,3,3,1])\n"
   ]
  },
  {
   "cell_type": "code",
   "execution_count": 6,
   "metadata": {},
   "outputs": [],
   "source": [
    "def list_tikrintojas(list1, list2):\n",
    "    suma = 0\n",
    "    for sarasas in list2:\n",
    "        if sarasas in list1:\n",
    "            suma += 1\n",
    "    return suma\n",
    "    # return set(list1).intersection(list2)"
   ]
  },
  {
   "cell_type": "code",
   "execution_count": 7,
   "metadata": {},
   "outputs": [
    {
     "name": "stdout",
     "output_type": "stream",
     "text": [
      "4\n"
     ]
    }
   ],
   "source": [
    "print(list_tikrintojas([1, 2], [1,1,2,3,3,3,3,3,1]))"
   ]
  },
  {
   "cell_type": "code",
   "execution_count": 8,
   "metadata": {},
   "outputs": [],
   "source": [
    "def list_tikrintojas(list1, list2):\n",
    "    suma = 0\n",
    "    for number in set(list1):\n",
    "        suma += list2.count(number)\n",
    "    return suma"
   ]
  },
  {
   "cell_type": "code",
   "execution_count": 9,
   "metadata": {},
   "outputs": [
    {
     "name": "stdout",
     "output_type": "stream",
     "text": [
      "4\n"
     ]
    }
   ],
   "source": [
    "print(list_tikrintojas([1, 2], [1,1,2,3,3,3,3,3,1]))"
   ]
  },
  {
   "cell_type": "code",
   "execution_count": 12,
   "metadata": {},
   "outputs": [],
   "source": [
    "def test_function(x):\n",
    "    x += 1"
   ]
  },
  {
   "cell_type": "code",
   "execution_count": 14,
   "metadata": {},
   "outputs": [
    {
     "name": "stdout",
     "output_type": "stream",
     "text": [
      "5\n"
     ]
    }
   ],
   "source": [
    "x = 5\n",
    "test_function(x)\n",
    "print(x)"
   ]
  },
  {
   "cell_type": "code",
   "execution_count": 15,
   "metadata": {},
   "outputs": [],
   "source": [
    "def filter_function(list1, func):\n",
    "    return func(list1)"
   ]
  },
  {
   "cell_type": "code",
   "execution_count": 19,
   "metadata": {},
   "outputs": [
    {
     "name": "stdout",
     "output_type": "stream",
     "text": [
      "38\n",
      "38\n",
      "7\n",
      "[[5, 6, 7, 8, 9, 3]]\n"
     ]
    }
   ],
   "source": [
    "my_list = [5,6,7,8,9,3]\n",
    "print(filter_function(my_list, sum))\n",
    "print(sum(my_list))\n",
    "print(filter_function(my_list, lambda x: x[2]))\n",
    "print(filter_function(my_list, lambda x: [ x for value in x if value < 5]))"
   ]
  },
  {
   "cell_type": "code",
   "execution_count": 22,
   "metadata": {},
   "outputs": [],
   "source": [
    "def anomaly_detector(list1):\n",
    "    suma = list1[0] - 1\n",
    "    for number in list1:\n",
    "        if number == suma + 1:\n",
    "            suma += 1\n",
    "            print(f\"anomalijos nera tarp skaicius {suma} ir {number}\")\n",
    "            suma += 1\n",
    "        else:\n",
    "            print(\"rasta anomalija {suma} ir {number}\")\n",
    "        suma += 1"
   ]
  },
  {
   "cell_type": "code",
   "execution_count": 25,
   "metadata": {},
   "outputs": [
    {
     "ename": "IndentationError",
     "evalue": "expected an indented block (135741482.py, line 2)",
     "output_type": "error",
     "traceback": [
      "\u001b[1;36m  Input \u001b[1;32mIn [25]\u001b[1;36m\u001b[0m\n\u001b[1;33m    for number in list1[:-1], list1[1:]:\u001b[0m\n\u001b[1;37m                                        ^\u001b[0m\n\u001b[1;31mIndentationError\u001b[0m\u001b[1;31m:\u001b[0m expected an indented block\n"
     ]
    }
   ],
   "source": [
    "def anomaly_detector_2(list1):\n",
    "    for number, number2 in zip(list1[:-1], list1[1:]):\n",
    "        if number + 1"
   ]
  },
  {
   "cell_type": "code",
   "execution_count": 67,
   "metadata": {},
   "outputs": [],
   "source": [
    "import random\n",
    "\n",
    "def spelione():\n",
    "    random_number = random.randint(1, 10)\n",
    "    bandymai = 3\n",
    "    atspejo = False\n",
    "    while bandymai:\n",
    "        human_input = float(input(\"Iveskite skaiciu nuo 1 iki 10\"))\n",
    "\n",
    "        if random_number == human_input:\n",
    "            print(f\"Correct!, skaicius buvo {random_number}\")\n",
    "            atspejo = True\n",
    "            bandymai = 0\n",
    "        else:\n",
    "            bandymai -= 1\n",
    "            if random_number > human_input:\n",
    "                print(\"Please guess higher\")\n",
    "            else:\n",
    "                print(\"Please guess lower\")\n",
    "            print(f\"Try again, you have {bandymai}\")\n",
    "    if not atspejo:\n",
    "        print(f\"the correct answer was {random_number}\")"
   ]
  },
  {
   "cell_type": "code",
   "execution_count": 68,
   "metadata": {},
   "outputs": [
    {
     "name": "stdout",
     "output_type": "stream",
     "text": [
      "Please guess lower\n",
      "Try again, you have 2\n",
      "Please guess lower\n",
      "Try again, you have 1\n",
      "Please guess lower\n",
      "Try again, you have 0\n",
      "the correct answer was 1\n"
     ]
    }
   ],
   "source": [
    "spelione()"
   ]
  },
  {
   "cell_type": "code",
   "execution_count": 55,
   "metadata": {},
   "outputs": [
    {
     "name": "stdout",
     "output_type": "stream",
     "text": [
      "None\n"
     ]
    }
   ],
   "source": [
    "geros_prekes = [\"morka\", \"bulve\", \"bananai\", \"kopustas\", \"salota\", \"agurkas\"]\n",
    "blogos_prekes = [\"cipsai\", \"cola\", \"saldainiai\", \"bandeles\", \"sausainiai\"]\n",
    "\n",
    "prekiu_gerumas = {\n",
    "    \"morka\": 0.7,\n",
    "    \"bulve\": 0.4, \n",
    "    \"bananai\": 0.3, \n",
    "    \"kopustas\": 0.6, \n",
    "    \"salota\": 0.8, \n",
    "    \"agurkas\": 0.5,\n",
    "    \"cipsai\": -0.9, \n",
    "    \"cola\": -1, \n",
    "    \"saldainai\": -0.8, \n",
    "    \"bandeles\": -0.3, \n",
    "    \"sausainiai\": -0.2\n",
    "}\n",
    "print(prekiu_gerumas.get(\"kriause\"))"
   ]
  },
  {
   "cell_type": "code",
   "execution_count": 42,
   "metadata": {},
   "outputs": [],
   "source": [
    "def tikrinti_krepseli(prekiu_sarasas):\n",
    "    paimtos_geros_prekes = []\n",
    "    paimtos_blogos_prekes = []\n",
    "    paimtos_nezinomos_prekes = []\n",
    "\n",
    "    for preke in prekiu_sarasas:\n",
    "        if preke in geros_prekes:\n",
    "            paimtos_geros_prekes.append(preke)\n",
    "\n",
    "        elif preke in blogos_prekes:\n",
    "            paimtos_blogos_prekes.append(preke)\n",
    "\n",
    "        else:\n",
    "            paimtos_nezinomos_prekes.append(preke)\n",
    "    print(f\"geros prekes: {paimtos_geros_prekes}\")\n",
    "    print(f\"blogos prekes: {paimtos_blogos_prekes}\")\n",
    "    print(f\"nezinomos prekes {paimtos_nezinomos_prekes}\")"
   ]
  },
  {
   "cell_type": "code",
   "execution_count": 43,
   "metadata": {},
   "outputs": [],
   "source": [
    "prekiu_krepselis = [\"obuolys\", \"cola\", \"morka\", \"saldainiai\", \"salota\"]"
   ]
  },
  {
   "cell_type": "code",
   "execution_count": 44,
   "metadata": {},
   "outputs": [
    {
     "name": "stdout",
     "output_type": "stream",
     "text": [
      "geros prekes: ['morka', 'salota']\n",
      "blogos prekes: ['cola']\n",
      "nezinomos prekes ['obuolys', 'saldainiai']\n"
     ]
    }
   ],
   "source": [
    "tikrinti_krepseli(prekiu_krepselis)"
   ]
  },
  {
   "cell_type": "markdown",
   "metadata": {},
   "source": [
    "global vs local variables"
   ]
  },
  {
   "cell_type": "code",
   "execution_count": 49,
   "metadata": {},
   "outputs": [],
   "source": [
    "global_variable = 100\n",
    "def some_function():\n",
    "    my_variable = 5\n",
    "    print(global_variable)"
   ]
  },
  {
   "cell_type": "code",
   "execution_count": 63,
   "metadata": {},
   "outputs": [],
   "source": [
    "def tikrinti_krepseli(prekiu_sarasas, prekiu_gerumas):\n",
    "    paimtos_geros_prekes = []\n",
    "    paimtos_blogos_prekes = []\n",
    "    paimtos_nezinomos_prekes = []\n",
    "    kof_suma = 0\n",
    "\n",
    "    for preke in prekiu_sarasas:\n",
    "        if preke not in prekiu_gerumas.keys():\n",
    "            paimtos_nezinomos_prekes.append(preke)\n",
    "            continue\n",
    "        if prekiu_gerumas[preke] >= 0. :\n",
    "            paimtos_geros_prekes.append(preke)\n",
    "            \n",
    "        elif prekiu_gerumas[preke] < 0. :\n",
    "            paimtos_blogos_prekes.append(preke)\n",
    "            \n",
    "        kof_suma += prekiu_gerumas[preke]\n",
    "\n",
    "    kof = kof_suma / len(prekiu_sarasas)\n",
    "\n",
    "    print(f\"geros prekes: {paimtos_geros_prekes}\")\n",
    "    print(f\"blogos prekes: {paimtos_blogos_prekes}\")\n",
    "    print(f\"nezinomos prekes {paimtos_nezinomos_prekes}\")\n",
    "    print(f\"Kokybes koficientas: {kof}\")"
   ]
  },
  {
   "cell_type": "code",
   "execution_count": 64,
   "metadata": {},
   "outputs": [],
   "source": [
    "prekiu_krepselis = [\"obuolys\", \"cola\", \"morka\", \"saldainiai\", \"salota\", \"kopustas\", \"bananai\"]"
   ]
  },
  {
   "cell_type": "code",
   "execution_count": 65,
   "metadata": {},
   "outputs": [
    {
     "ename": "TypeError",
     "evalue": "tikrinti_krepseli() missing 1 required positional argument: 'prekiu_gerumas'",
     "output_type": "error",
     "traceback": [
      "\u001b[1;31m---------------------------------------------------------------------------\u001b[0m",
      "\u001b[1;31mTypeError\u001b[0m                                 Traceback (most recent call last)",
      "Input \u001b[1;32mIn [65]\u001b[0m, in \u001b[0;36m<module>\u001b[1;34m\u001b[0m\n\u001b[1;32m----> 1\u001b[0m \u001b[43mtikrinti_krepseli\u001b[49m\u001b[43m(\u001b[49m\u001b[43mprekiu_krepselis\u001b[49m\u001b[43m)\u001b[49m\n",
      "\u001b[1;31mTypeError\u001b[0m: tikrinti_krepseli() missing 1 required positional argument: 'prekiu_gerumas'"
     ]
    }
   ],
   "source": [
    "tikrinti_krepseli(prekiu_krepselis)"
   ]
  },
  {
   "cell_type": "code",
   "execution_count": 66,
   "metadata": {},
   "outputs": [
    {
     "name": "stdout",
     "output_type": "stream",
     "text": [
      "geros prekes: ['morka', 'salota', 'kopustas', 'bananai']\n",
      "blogos prekes: ['cola']\n",
      "nezinomos prekes ['obuolys', 'saldainiai']\n",
      "Kokybes koficientas: 0.2\n"
     ]
    }
   ],
   "source": [
    "tikrinti_krepseli(prekiu_krepselis, prekiu_gerumas=prekiu_gerumas)"
   ]
  },
  {
   "cell_type": "code",
   "execution_count": 74,
   "metadata": {},
   "outputs": [
    {
     "name": "stdout",
     "output_type": "stream",
     "text": [
      "['e', '&', '8', '@', '3', '!', '*', '&', '^', '3', 'h', '*', '$', '8']\n",
      "Your password is e&8@3!*&^3h*$8\n"
     ]
    }
   ],
   "source": [
    "#Password generator\n",
    "\n",
    "import random\n",
    "\n",
    "list_abc = [\"a\", \"b\", \"c\", \"d\", \"e\", \"f\", \"g\", \"h\"]\n",
    "list_num = [\"1\", \"2\", \"3\", \"4\", \"5\", \"6\", \"7\", \"8\"]\n",
    "list_sym = [\"!\", \"@\", \"#\", \"$\", \"%\", \"^\", \"&\", \"*\"]\n",
    "\n",
    "nr_abc = int(input(\"Please choose how many letters you want in your password\"))\n",
    "nr_num = int(input(\"Please choose how many numbers you want in your password\"))\n",
    "nr_sym = int(input(\"Please choose how many symbols you want in your password\"))\n",
    "\n",
    "password = []\n",
    "\n",
    "for char in range(1, nr_abc + 1):\n",
    "    password += random.choice(list_abc)\n",
    "    for char in range(1, nr_num + 1):\n",
    "        password += random.choice(list_num)\n",
    "        for char in range(1, nr_sym + 1):\n",
    "            password += random.choice(list_sym)\n",
    "\n",
    "\n",
    "random.shuffle(password)\n",
    "print(password)\n",
    "\n",
    "password_list = \"\"\n",
    "for char in password:\n",
    "    password_list += char\n",
    "print(f\"Your password is {password_list}\")"
   ]
  },
  {
   "cell_type": "code",
   "execution_count": null,
   "metadata": {},
   "outputs": [],
   "source": []
  }
 ],
 "metadata": {
  "interpreter": {
   "hash": "e53451beced238010f800603bd1d06328bb0c9e3703b1931577b1aa6a00aa74b"
  },
  "kernelspec": {
   "display_name": "Python 3.9.9 64-bit (windows store)",
   "language": "python",
   "name": "python3"
  },
  "language_info": {
   "codemirror_mode": {
    "name": "ipython",
    "version": 3
   },
   "file_extension": ".py",
   "mimetype": "text/x-python",
   "name": "python",
   "nbconvert_exporter": "python",
   "pygments_lexer": "ipython3",
   "version": "3.9.10"
  },
  "orig_nbformat": 4
 },
 "nbformat": 4,
 "nbformat_minor": 2
}
