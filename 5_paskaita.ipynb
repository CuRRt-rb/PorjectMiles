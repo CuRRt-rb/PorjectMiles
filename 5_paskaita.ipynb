{
 "cells": [
  {
   "cell_type": "code",
   "execution_count": 7,
   "metadata": {},
   "outputs": [],
   "source": [
    "def string_check(word):\n",
    "    symbols = \"!@#$%^&*()_-<>?:{|}\"\n",
    "    letters = 0\n",
    "    numbers = 0\n",
    "    other_symb = 0\n",
    "\n",
    "    for symbol in word:\n",
    "        if symbol.isdigit():\n",
    "            numbers += 1\n",
    "        elif symbol.isalpha():\n",
    "            letters += 1\n",
    "        elif symbol == \" \":\n",
    "            other_symb += 0\n",
    "        elif symbol in symbols:\n",
    "            other_symb += 1\n",
    "\n",
    "    print(f\"You word is {word}, letters {letters}, numbers {numbers}, other symbols {other_symb}\")"
   ]
  },
  {
   "cell_type": "code",
   "execution_count": 9,
   "metadata": {},
   "outputs": [
    {
     "name": "stdout",
     "output_type": "stream",
     "text": [
      "You word is pasikiskiakopusteliaudavome, letters 27, numbers 0, other symbols 0\n"
     ]
    }
   ],
   "source": [
    "string_check(\"pasikiskiakopusteliaudavome\")"
   ]
  },
  {
   "cell_type": "code",
   "execution_count": 10,
   "metadata": {},
   "outputs": [],
   "source": [
    "def my_range(start, stop, end):\n",
    "    return list(range(start, stop, end))\n",
    "    "
   ]
  },
  {
   "cell_type": "code",
   "execution_count": 11,
   "metadata": {},
   "outputs": [
    {
     "data": {
      "text/plain": [
       "[10,\n",
       " 15,\n",
       " 20,\n",
       " 25,\n",
       " 30,\n",
       " 35,\n",
       " 40,\n",
       " 45,\n",
       " 50,\n",
       " 55,\n",
       " 60,\n",
       " 65,\n",
       " 70,\n",
       " 75,\n",
       " 80,\n",
       " 85,\n",
       " 90,\n",
       " 95,\n",
       " 100,\n",
       " 105,\n",
       " 110,\n",
       " 115,\n",
       " 120,\n",
       " 125,\n",
       " 130,\n",
       " 135,\n",
       " 140,\n",
       " 145,\n",
       " 150]"
      ]
     },
     "execution_count": 11,
     "metadata": {},
     "output_type": "execute_result"
    }
   ],
   "source": [
    "my_range(10, 153, 5)"
   ]
  },
  {
   "cell_type": "code",
   "execution_count": 12,
   "metadata": {},
   "outputs": [],
   "source": [
    "def min_max(my_list):\n",
    "    return max(my_list) - min(my_list)"
   ]
  },
  {
   "cell_type": "code",
   "execution_count": 13,
   "metadata": {},
   "outputs": [
    {
     "data": {
      "text/plain": [
       "66"
      ]
     },
     "execution_count": 13,
     "metadata": {},
     "output_type": "execute_result"
    }
   ],
   "source": [
    "min_max([1,56,8,36,10, -10])"
   ]
  },
  {
   "cell_type": "code",
   "execution_count": 16,
   "metadata": {},
   "outputs": [],
   "source": [
    "import string\n",
    "import random\n",
    "\n",
    "def password_generator(my_int):\n",
    "    all_symbols = string.printable\n",
    "    password = [random.choice(all_symbols) for i in range(my_int)]\n",
    "    password = \"\". join(password)\n",
    "    return password"
   ]
  },
  {
   "cell_type": "code",
   "execution_count": 17,
   "metadata": {},
   "outputs": [
    {
     "data": {
      "text/plain": [
       "'2R|_\\ndsqV4'"
      ]
     },
     "execution_count": 17,
     "metadata": {},
     "output_type": "execute_result"
    }
   ],
   "source": [
    "password_generator(10)"
   ]
  },
  {
   "cell_type": "code",
   "execution_count": 27,
   "metadata": {},
   "outputs": [],
   "source": [
    "def k_diff(my_list, k):\n",
    "    sumos = []\n",
    "    for i in range(len(my_list) - k + 1):\n",
    "        sumos.append(sum(my_list[m] for m in range(i, i+k)))\n",
    "\n",
    "    return max(sumos)"
   ]
  },
  {
   "cell_type": "code",
   "execution_count": 28,
   "metadata": {},
   "outputs": [
    {
     "name": "stdout",
     "output_type": "stream",
     "text": [
      "31\n"
     ]
    }
   ],
   "source": [
    "print(k_diff([1,2,3,4,5,10,16,1,1], 3))"
   ]
  },
  {
   "cell_type": "markdown",
   "metadata": {},
   "source": [
    "#Try/Except"
   ]
  },
  {
   "cell_type": "code",
   "execution_count": 41,
   "metadata": {},
   "outputs": [
    {
     "name": "stdout",
     "output_type": "stream",
     "text": [
      "wawawa\n",
      "after print(y)\n",
      "Bandyt dalinti is 0\n",
      "division by zero\n",
      "Finally skiltis\n",
      "Kodass veikia toliau\n"
     ]
    }
   ],
   "source": [
    "#read more about library traceback\n",
    "\n",
    "try:\n",
    "    print(\"wawawa\")\n",
    "    # print(y)\n",
    "    print(\"after print(y)\")\n",
    "    x = 1 / 0 #jumps to except\n",
    "    print(\"Try pabaiga\")\n",
    "except ZeroDivisionError as e: # Except specific error type only\n",
    "    print(\"Bandyt dalinti is 0\")\n",
    "    print(e)\n",
    "except NameError as e:\n",
    "    print(\"kintamasis nerastas\")\n",
    "    print(e)\n",
    "except IndexError as e:\n",
    "    print(\"list out of range\")\n",
    "\n",
    "finally: #example usage: writing to log file, closing documents/connnections\n",
    "    print(\"Finally skiltis\")\n",
    "\n",
    "print(\"Kodass veikia toliau\")"
   ]
  },
  {
   "cell_type": "code",
   "execution_count": 42,
   "metadata": {},
   "outputs": [
    {
     "name": "stdout",
     "output_type": "stream",
     "text": [
      "1\n",
      "2\n"
     ]
    }
   ],
   "source": [
    "it = iter([1,2])\n",
    "print(next(it))\n",
    "print(next(it))"
   ]
  },
  {
   "cell_type": "code",
   "execution_count": 45,
   "metadata": {},
   "outputs": [
    {
     "name": "stdout",
     "output_type": "stream",
     "text": [
      "11 this is a integer\n"
     ]
    }
   ],
   "source": [
    "x = 1\n",
    "isinstance(x, str) #check is variable int or str, \"True\" or \"False\"\n",
    "isinstance(x, int)\n",
    "\n",
    "#How to check with if statements\n",
    "x = 1\n",
    "if isinstance(x, str):\n",
    "    print(x + \"1\", \"This is a string\")\n",
    "elif isinstance(x, int):\n",
    "    print(str(x) + \"1\", \"this is a integer\")"
   ]
  },
  {
   "cell_type": "code",
   "execution_count": 50,
   "metadata": {},
   "outputs": [
    {
     "name": "stdout",
     "output_type": "stream",
     "text": [
      "student\n"
     ]
    }
   ],
   "source": [
    "a = [\"Sveiki\", \"visi\"]\n",
    "# print(a[1]) #mano budas\n",
    "try:\n",
    "    a[2]\n",
    "except IndexError as e:\n",
    "    a.append(\"student\")\n",
    "    print(a[2])"
   ]
  },
  {
   "cell_type": "code",
   "execution_count": 52,
   "metadata": {},
   "outputs": [],
   "source": [
    "def fn_2(x):\n",
    "    if isinstance(x, list):\n",
    "        raise ValueError(\"Given meaning is list type, wich is not supported\")\n",
    "    if isinstance(x, dict):\n",
    "        raise NotImplementedError(\"Will be available later\")\n",
    "    print(x)"
   ]
  },
  {
   "cell_type": "markdown",
   "metadata": {},
   "source": [
    "#OS library"
   ]
  },
  {
   "cell_type": "code",
   "execution_count": 55,
   "metadata": {},
   "outputs": [
    {
     "data": {
      "text/plain": [
       "'c:\\\\Users\\\\kunig\\\\Documents\\\\Git Project\\\\PorjectMiles'"
      ]
     },
     "execution_count": 55,
     "metadata": {},
     "output_type": "execute_result"
    }
   ],
   "source": [
    "os.getcwd()"
   ]
  },
  {
   "cell_type": "code",
   "execution_count": null,
   "metadata": {},
   "outputs": [],
   "source": []
  }
 ],
 "metadata": {
  "interpreter": {
   "hash": "e53451beced238010f800603bd1d06328bb0c9e3703b1931577b1aa6a00aa74b"
  },
  "kernelspec": {
   "display_name": "Python 3.9.10 64-bit (windows store)",
   "language": "python",
   "name": "python3"
  },
  "language_info": {
   "codemirror_mode": {
    "name": "ipython",
    "version": 3
   },
   "file_extension": ".py",
   "mimetype": "text/x-python",
   "name": "python",
   "nbconvert_exporter": "python",
   "pygments_lexer": "ipython3",
   "version": "3.9.10"
  },
  "orig_nbformat": 4
 },
 "nbformat": 4,
 "nbformat_minor": 2
}
