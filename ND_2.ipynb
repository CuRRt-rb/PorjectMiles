{
 "cells": [
  {
   "cell_type": "code",
   "execution_count": 1,
   "source": [
    "x = [1, 5, 1, 2, 8, -9, 10, 1, -8, -900, 14, 5,\r\n",
    "\r\n",
    "     -8, 2, 1, -20, 900, 800, -6, -8, 12, 1]\r\n",
    "     \r\n",
    "\r\n",
    "r = x[:]\r\n",
    "for numbers in x:\r\n",
    "    if numbers < 0:\r\n",
    "        r.remove(numbers)\r\n",
    "        answer = set(r)\r\n",
    "        print(answer)\r\n"
   ],
   "outputs": [
    {
     "output_type": "stream",
     "name": "stdout",
     "text": [
      "{800, 1, 2, 900, 5, 8, 10, -20, 12, 14, -8, -6, -900}\n",
      "{800, 1, 2, 900, 5, 8, 10, -20, 12, 14, -8, -6, -900}\n",
      "{800, 1, 2, 900, 5, 8, 10, -20, 12, 14, -8, -6}\n",
      "{800, 1, 2, 900, 5, 8, 10, -20, 12, 14, -8, -6}\n",
      "{800, 1, 2, 900, 5, 8, 10, 12, 14, -8, -6}\n",
      "{800, 1, 2, 900, 5, 8, 10, 12, 14, -8}\n",
      "{800, 1, 2, 900, 5, 8, 10, 12, 14}\n"
     ]
    }
   ],
   "metadata": {}
  }
 ],
 "metadata": {
  "orig_nbformat": 4,
  "language_info": {
   "name": "python",
   "version": "3.9.7",
   "mimetype": "text/x-python",
   "codemirror_mode": {
    "name": "ipython",
    "version": 3
   },
   "pygments_lexer": "ipython3",
   "nbconvert_exporter": "python",
   "file_extension": ".py"
  },
  "kernelspec": {
   "name": "python3",
   "display_name": "Python 3.9.7 64-bit (windows store)"
  },
  "interpreter": {
   "hash": "738ae8485da13bb27a621e7dcce7512c29d083fd16f835a54cf72a64705faca6"
  }
 },
 "nbformat": 4,
 "nbformat_minor": 2
}