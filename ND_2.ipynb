{
 "cells": [
  {
   "cell_type": "code",
   "execution_count": 22,
   "source": [
    "x = { \"cost_price\": 32.67, \"sell_price\": 45.00, \"inventory\": 1212}\r\n",
    "result = 0\r\n",
    "for i in x:\r\n",
    "    answer = x[\"sell_price\"] - x[\"cost_price\"]\r\n",
    "    answer_2 = x[\"inventory\"] * answer\r\n",
    "    a_round = round(answer_2, 2)\r\n",
    "    print({a_round})"
   ],
   "outputs": [
    {
     "output_type": "stream",
     "name": "stdout",
     "text": [
      "{14943.96}\n",
      "{14943.96}\n",
      "{14943.96}\n"
     ]
    }
   ],
   "metadata": {}
  }
 ],
 "metadata": {
  "orig_nbformat": 4,
  "language_info": {
   "name": "python",
   "version": "3.9.7",
   "mimetype": "text/x-python",
   "codemirror_mode": {
    "name": "ipython",
    "version": 3
   },
   "pygments_lexer": "ipython3",
   "nbconvert_exporter": "python",
   "file_extension": ".py"
  },
  "kernelspec": {
   "name": "python3",
   "display_name": "Python 3.9.7 64-bit (windows store)"
  },
  "interpreter": {
   "hash": "738ae8485da13bb27a621e7dcce7512c29d083fd16f835a54cf72a64705faca6"
  }
 },
 "nbformat": 4,
 "nbformat_minor": 2
}