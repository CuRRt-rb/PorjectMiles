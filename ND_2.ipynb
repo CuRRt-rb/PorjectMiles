{
 "cells": [
  {
   "cell_type": "code",
   "execution_count": 9,
   "source": [],
   "outputs": [
    {
     "output_type": "stream",
     "name": "stdout",
     "text": [
      "12\n"
     ]
    }
   ],
   "metadata": {}
  }
 ],
 "metadata": {
  "orig_nbformat": 4,
  "language_info": {
   "name": "python",
   "version": "3.9.7",
   "mimetype": "text/x-python",
   "codemirror_mode": {
    "name": "ipython",
    "version": 3
   },
   "pygments_lexer": "ipython3",
   "nbconvert_exporter": "python",
   "file_extension": ".py"
  },
  "kernelspec": {
   "name": "python3",
   "display_name": "Python 3.9.7 64-bit (windows store)"
  },
  "interpreter": {
   "hash": "738ae8485da13bb27a621e7dcce7512c29d083fd16f835a54cf72a64705faca6"
  }
 },
 "nbformat": 4,
 "nbformat_minor": 2
}