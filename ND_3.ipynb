{
 "cells": [
  {
   "cell_type": "code",
   "execution_count": null,
   "source": [
    "x = { \"cost_price\": 32.67, \"sell_price\": 45.00, \"inventory\": 1212}\r\n",
    "result = 0\r\n",
    "for i in x:\r\n",
    "    answer = x[\"sell_price\"] - x[\"cost_price\"]\r\n",
    "    answer_2 = x[\"inventory\"] * answer\r\n",
    "    a_round = round(answer_2, 2)\r\n",
    "    print({a_round})"
   ],
   "outputs": [],
   "metadata": {}
  }
 ],
 "metadata": {
  "orig_nbformat": 4,
  "language_info": {
   "name": "python"
  }
 },
 "nbformat": 4,
 "nbformat_minor": 2
}