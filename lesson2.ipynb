{
 "cells": [
  {
   "cell_type": "code",
   "execution_count": null,
   "source": [
    "for fizz_buzz in range(100):\r\n",
    "  if fizz_buzz % 2 == 0:\r\n",
    "    print(\"Fizz\")\r\n",
    "  elif fizz_buzz % 3 == 0:\r\n",
    "    print(\"Buzz\")\r\n",
    "  elif fizz_buzz % 5 == 0:\r\n",
    "    print(\"FizzBuzz\")\r\n",
    "  else:\r\n",
    "    print(fizz_buzz)"
   ],
   "outputs": [],
   "metadata": {}
  }
 ],
 "metadata": {
  "orig_nbformat": 4,
  "language_info": {
   "name": "python",
   "version": "3.9.7"
  },
  "kernelspec": {
   "name": "python3",
   "display_name": "Python 3.9.7 64-bit (windows store)"
  },
  "interpreter": {
   "hash": "738ae8485da13bb27a621e7dcce7512c29d083fd16f835a54cf72a64705faca6"
  }
 },
 "nbformat": 4,
 "nbformat_minor": 2
}