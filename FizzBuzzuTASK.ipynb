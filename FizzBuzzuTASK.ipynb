{
 "cells": [
  {
   "cell_type": "code",
   "execution_count": 3,
   "source": [
    "for fizz_buzz in range(101):\r\n",
    "    if fizz_buzz % 2 == 0 and fizz_buzz % 3 == 0:\r\n",
    "        print(\"fizz_buzz\")\r\n",
    "    elif fizz_buzz % 2 == 0:\r\n",
    "        print(\"fizz\")\r\n",
    "    elif fizz_buzz % 3 == 0:\r\n",
    "        print(\"buzz\")"
   ],
   "outputs": [
    {
     "output_type": "stream",
     "name": "stdout",
     "text": [
      "fizz_buzz\n",
      "fizz\n",
      "buzz\n",
      "fizz\n",
      "fizz_buzz\n",
      "fizz\n",
      "buzz\n",
      "fizz\n",
      "fizz_buzz\n",
      "fizz\n",
      "buzz\n",
      "fizz\n",
      "fizz_buzz\n",
      "fizz\n",
      "buzz\n",
      "fizz\n",
      "fizz_buzz\n",
      "fizz\n",
      "buzz\n",
      "fizz\n",
      "fizz_buzz\n",
      "fizz\n",
      "buzz\n",
      "fizz\n",
      "fizz_buzz\n",
      "fizz\n",
      "buzz\n",
      "fizz\n",
      "fizz_buzz\n",
      "fizz\n",
      "buzz\n",
      "fizz\n",
      "fizz_buzz\n",
      "fizz\n",
      "buzz\n",
      "fizz\n",
      "fizz_buzz\n",
      "fizz\n",
      "buzz\n",
      "fizz\n",
      "fizz_buzz\n",
      "fizz\n",
      "buzz\n",
      "fizz\n",
      "fizz_buzz\n",
      "fizz\n",
      "buzz\n",
      "fizz\n",
      "fizz_buzz\n",
      "fizz\n",
      "buzz\n",
      "fizz\n",
      "fizz_buzz\n",
      "fizz\n",
      "buzz\n",
      "fizz\n",
      "fizz_buzz\n",
      "fizz\n",
      "buzz\n",
      "fizz\n",
      "fizz_buzz\n",
      "fizz\n",
      "buzz\n",
      "fizz\n",
      "fizz_buzz\n",
      "fizz\n",
      "buzz\n",
      "fizz\n"
     ]
    }
   ],
   "metadata": {}
  }
 ],
 "metadata": {
  "orig_nbformat": 4,
  "language_info": {
   "name": "python",
   "version": "3.9.7",
   "mimetype": "text/x-python",
   "codemirror_mode": {
    "name": "ipython",
    "version": 3
   },
   "pygments_lexer": "ipython3",
   "nbconvert_exporter": "python",
   "file_extension": ".py"
  },
  "kernelspec": {
   "name": "python3",
   "display_name": "Python 3.9.7 64-bit (windows store)"
  },
  "interpreter": {
   "hash": "738ae8485da13bb27a621e7dcce7512c29d083fd16f835a54cf72a64705faca6"
  }
 },
 "nbformat": 4,
 "nbformat_minor": 2
}