{
 "cells": [
  {
   "cell_type": "code",
   "execution_count": 2,
   "source": [
    "a = [1,2,3,4,5,6,7,8,9,15]\r\n",
    "b = [3,8,9,11,15]\r\n",
    "c = []\r\n",
    "for  i in b:\r\n",
    "    if any(i==j for j in a):\r\n",
    "        c.append(i)\r\n",
    "        a.remove(i)\r\n",
    "print(f\"c = {c}\")"
   ],
   "outputs": [
    {
     "output_type": "stream",
     "name": "stdout",
     "text": [
      "c = [3, 8, 9, 15]\n"
     ]
    }
   ],
   "metadata": {}
  }
 ],
 "metadata": {
  "orig_nbformat": 4,
  "language_info": {
   "name": "python",
   "version": "3.9.7",
   "mimetype": "text/x-python",
   "codemirror_mode": {
    "name": "ipython",
    "version": 3
   },
   "pygments_lexer": "ipython3",
   "nbconvert_exporter": "python",
   "file_extension": ".py"
  },
  "kernelspec": {
   "name": "python3",
   "display_name": "Python 3.9.7 64-bit (windows store)"
  },
  "interpreter": {
   "hash": "738ae8485da13bb27a621e7dcce7512c29d083fd16f835a54cf72a64705faca6"
  }
 },
 "nbformat": 4,
 "nbformat_minor": 2
}